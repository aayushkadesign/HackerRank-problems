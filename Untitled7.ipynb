{
  "nbformat": 4,
  "nbformat_minor": 0,
  "metadata": {
    "colab": {
      "name": "Untitled7.ipynb",
      "provenance": [],
      "authorship_tag": "ABX9TyMNUGhI0UD1cTV/PmyrdaRO",
      "include_colab_link": true
    },
    "kernelspec": {
      "name": "python3",
      "display_name": "Python 3"
    }
  },
  "cells": [
    {
      "cell_type": "markdown",
      "metadata": {
        "id": "view-in-github",
        "colab_type": "text"
      },
      "source": [
        "<a href=\"https://colab.research.google.com/github/aayushkadesign/HackerRank-problems/blob/main/Untitled7.ipynb\" target=\"_parent\"><img src=\"https://colab.research.google.com/assets/colab-badge.svg\" alt=\"Open In Colab\"/></a>"
      ]
    },
    {
      "cell_type": "code",
      "metadata": {
        "id": "_aXMuPloeGkW",
        "colab": {
          "base_uri": "https://localhost:8080/",
          "height": 34
        },
        "outputId": "27b097cb-3bbe-4152-964e-4463a443583f"
      },
      "source": [
        "def dayOfProgrammer(year):\n",
        "    if year!=1918:\n",
        "        if year>=1700 and year<=1917:\n",
        "            if year/4==0:\n",
        "                return '12.09.'+str(year)\n",
        "            else:\n",
        "                return '13.09.'+str(year)\n",
        "        elif year>1918 and year<=2700:\n",
        "            if year/400==0 or (year/4==0 and year/100!=0):\n",
        "                return '12.09.'+str(year)    \n",
        "            else:\n",
        "                return '13.09.'+str(year)\n",
        "    else:\n",
        "        return '26.09.'+str(year)\n",
        "\n",
        "a=dayOfProgrammer(1918)\n",
        "print(a)\n"
      ],
      "execution_count": null,
      "outputs": [
        {
          "output_type": "stream",
          "text": [
            "26.09.1918\n"
          ],
          "name": "stdout"
        }
      ]
    },
    {
      "cell_type": "code",
      "metadata": {
        "id": "MKGzdtCtDLgr",
        "colab": {
          "base_uri": "https://localhost:8080/",
          "height": 51
        },
        "outputId": "b0d42a38-54fe-4aaa-e543-1693ed57f6bf"
      },
      "source": [
        "import math\n",
        "def climbingLeaderboard(scores, alice):\n",
        "   result=[]\n",
        "   uniqueScores=sorted(list(set(scores)))\n",
        "   uniqueScores.reverse()\n",
        "   print(uniqueScores)\n",
        "   for i in range(len(alice)):\n",
        "    if alice[i]>=uniqueScores[0]:\n",
        "        result.append(1)\n",
        "    elif alice[i]<uniqueScores[len(uniqueScores)-1]:\n",
        "        result.append(len(uniqueScores)+1)\n",
        "    else:\n",
        "        result.append(BinarySearch(alice[i],uniqueScores))\n",
        "   return result\n",
        "def BinarySearch(a,uniqueScores):\n",
        "    start=0\n",
        "    end=len(uniqueScores)-1\n",
        "    mid=0\n",
        "    h=0\n",
        "    while(h!=1):\n",
        "        mid=math.floor((start+end)/2)\n",
        "        if uniqueScores[mid]==a:\n",
        "            h=1\n",
        "            return mid+1\n",
        "        elif uniqueScores[mid]<a and uniqueScores[mid-1]>a:\n",
        "            h=1\n",
        "            return mid-1\n",
        "        elif uniqueScores[mid]>a and uniqueScores[mid+1]<a:\n",
        "            h=1\n",
        "            return mid+2\n",
        "        elif a<uniqueScores[mid]:\n",
        "            start=mid+1\n",
        "        elif a>uniqueScores[mid]:\n",
        "            end=mid-1\n",
        "climbingLeaderboard([100,100,50,40,40,20,10],[5,25,50,120])"
      ],
      "execution_count": null,
      "outputs": [
        {
          "output_type": "stream",
          "text": [
            "[100, 50, 40, 20, 10]\n"
          ],
          "name": "stdout"
        },
        {
          "output_type": "execute_result",
          "data": {
            "text/plain": [
              "[6, 4, 2, 1]"
            ]
          },
          "metadata": {
            "tags": []
          },
          "execution_count": 15
        }
      ]
    },
    {
      "cell_type": "code",
      "metadata": {
        "id": "YVSsqfMuVgB2",
        "colab": {
          "base_uri": "https://localhost:8080/",
          "height": 34
        },
        "outputId": "e858e6dd-e7fe-4fa2-b6dd-2ebbeb2e26a8"
      },
      "source": [
        ""
      ],
      "execution_count": null,
      "outputs": [
        {
          "output_type": "stream",
          "text": [
            "10\n"
          ],
          "name": "stdout"
        }
      ]
    },
    {
      "cell_type": "code",
      "metadata": {
        "id": "AP272-DrEqG3",
        "colab": {
          "base_uri": "https://localhost:8080/",
          "height": 34
        },
        "outputId": "6a18f4db-bedd-4f32-f40d-dff637619507"
      },
      "source": [
        "def climbingLeaderboard(scores, alice):\n",
        "  s=[]\n",
        "  d=[]\n",
        "  alice.reverse()\n",
        "  d=list(set(sorted(scores)))\n",
        "  #d.reverse()\n",
        "  w=1\n",
        "  for i in range(0,len(alice)):\n",
        "    for j in range(0,len(d)):\n",
        "      if alice[i]>d[j] and i==0:\n",
        "        s.append(1)\n",
        "        j+=1\n",
        "        break \n",
        "      elif  alice[i]<d[j]:\n",
        "        s.append(w+2)\n",
        "        j+=1\n",
        "        break\n",
        "      elif alice[i]==d[j]:\n",
        "        w+=1\n",
        "        s.append(w)\n",
        "  #s.reverse()\n",
        "  return s\n",
        "climbingLeaderboard([100,90,90,80,75,60],[50,65,77,90,102])"
      ],
      "execution_count": null,
      "outputs": [
        {
          "output_type": "execute_result",
          "data": {
            "text/plain": [
              "[1, 3, 3, 3, 3]"
            ]
          },
          "metadata": {
            "tags": []
          },
          "execution_count": 14
        }
      ]
    }
  ]
}